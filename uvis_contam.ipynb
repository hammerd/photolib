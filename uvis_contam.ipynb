{
 "metadata": {
  "name": "F606W_plot_mjdflux"
 },
 "nbformat": 3,
 "nbformat_minor": 0,
 "worksheets": [
  {
   "cells": [
    {
     "cell_type": "code",
     "collapsed": false,
     "input": [
      "def meanclip(indata, clipsig=3.0, maxiter=5, converge_num=0.02, verbose=1, return_array=0, return_median=0):\n",
      "   \"\"\"\n",
      "   Computes an iteratively sigma-clipped mean on a\n",
      "   data set. Clipping is done about median, but mean\n",
      "   is returned by default (use return_median to return\n",
      "   the clipped median value).\n",
      "\n",
      "   .. note:: MYMEANCLIP routine from ACS library.\n",
      "\n",
      "   :History:\n",
      "       * 21/10/1998 Written by RSH, RITSS\n",
      "       * 20/01/1999 Added SUBS, fixed misplaced paren on float call, improved doc. RSH\n",
      "       * 24/11/2009 Converted to Python. PLL.\n",
      "       * 08/01/2013 Added option to return the array indices of non-clipped pixels. DMH\n",
      "                    Added option to return median of the clipped array. DMH\n",
      "\n",
      "   Examples\n",
      "   --------\n",
      "   >>> mean, sigma = meanclip(indata)\n",
      "\n",
      "   Parameters\n",
      "   ----------\n",
      "   indata: array_like\n",
      "       Input data.\n",
      "\n",
      "   clipsig: float\n",
      "       Number of sigma at which to clip.\n",
      "\n",
      "   maxiter: int\n",
      "       Ceiling on number of clipping iterations.\n",
      "\n",
      "   converge_num: float\n",
      "       If the proportion of rejected pixels is less than\n",
      "       this fraction, the iterations stop.\n",
      "\n",
      "   verbose: {0, 1}\n",
      "       Print messages to screen?\n",
      "\n",
      "   return_array: {0, 1}\n",
      "        Return the final array indices that were used to compute statistics.\n",
      "\n",
      "   Returns\n",
      "   -------\n",
      "   mean: float\n",
      "       N-sigma clipped mean.\n",
      "\n",
      "   sigma: float\n",
      "       Standard deviation of remaining pixels.\n",
      "\n",
      "   \"\"\"\n",
      "   # Flatten array\n",
      "   skpix = indata.reshape( indata.size, )\n",
      "\n",
      "   # initialize array to store indices of pixels used to compute stats\n",
      "   arrind = np.arange(0,skpix.size)\n",
      "\n",
      "   ct = indata.size\n",
      "   iter = 0; c1 = 1.0 ; c2 = 0.0\n",
      "\n",
      "   while (c1 >= c2) and (iter < maxiter):\n",
      "       lastct = ct\n",
      "       medval = np.median(skpix)\n",
      "       sig = np.std(skpix)\n",
      "       wsm = np.where( abs(skpix-medval) < clipsig*sig )\n",
      "       ct = len(wsm[0])\n",
      "       if ct > 0:\n",
      "           skpix = skpix[wsm]\n",
      "           arrind = arrind[wsm]\n",
      "\n",
      "       c1 = abs(ct - lastct)\n",
      "       c2 = converge_num * lastct\n",
      "       iter += 1\n",
      "   # End of while loop\n",
      "\n",
      "   if return_median:\n",
      "        val = np.median(skpix)\n",
      "        val_type = 'median'\n",
      "   else:\n",
      "        val  = np.mean( skpix )\n",
      "        val_type = 'mean'\n",
      "   sigma = np.std( skpix )\n",
      "\n",
      "   if verbose:\n",
      "       if return_median:\n",
      "           prf = 'MEDIANCLIP:'\n",
      "           print '%s %.1f-sigma clipped median' % (prf, clipsig)\n",
      "           print '%s Median computed in %i iterations' % (prf, iter)\n",
      "           print '%s Median = %.6f, sigma = %.6f' % (prf, val, sigma)\n",
      "\n",
      "       else:\n",
      "           prf = 'MEANCLIP:'\n",
      "           print '%s %.1f-sigma clipped mean' % (prf, clipsig)\n",
      "           print '%s Mean computed in %i iterations' % (prf, iter)\n",
      "           print '%s Mean = %.6f, sigma = %.6f' % (prf, val, sigma)\n",
      "        \n",
      "   if return_array: return np.copy(arrind)\n",
      "   else: return val, sigma"
     ],
     "language": "python",
     "metadata": {},
     "outputs": [],
     "prompt_number": 1
    },
    {
     "cell_type": "code",
     "collapsed": false,
     "input": [
      "import numpy as np\n",
      "%pylab"
     ],
     "language": "python",
     "metadata": {},
     "outputs": [
      {
       "output_type": "stream",
       "stream": "stdout",
       "text": [
        "\n",
        "Welcome to pylab, a matplotlib-based Python environment [backend: TkAgg].\n",
        "For more information, type 'help(pylab)'.\n"
       ]
      }
     ],
     "prompt_number": 2
    },
    {
     "cell_type": "heading",
     "level": 1,
     "metadata": {},
     "source": [
      "Load data"
     ]
    },
    {
     "cell_type": "code",
     "collapsed": false,
     "input": [
      "# Load data\n",
      "filt = 'F606W'\n",
      "mjd,chip,expt,f8,f10,f24 = np.loadtxt(filt+'_photcat.dat',unpack=True,usecols=(3,5,14,22,24,30))"
     ],
     "language": "python",
     "metadata": {},
     "outputs": [],
     "prompt_number": 3
    },
    {
     "cell_type": "heading",
     "level": 1,
     "metadata": {},
     "source": [
      "Make diagram using 10-pixel aperture radius"
     ]
    },
    {
     "cell_type": "code",
     "collapsed": false,
     "input": [
      "# Plot the flux vs. MJD (separate by chip)\n",
      "c1 = np.where(chip == 1)[0]\n",
      "c2 = np.where(chip == 2)[0]\n",
      "\n",
      "# -- Fit data shortly after SMOV\n",
      "# chip1\n",
      "gd1 = np.where((mjd[c1] < 55400.) & (f10[c1]/expt[c1] > 48000.))[0]\n",
      "gdind1 = meanclip(f10[c1[gd1]],return_array=1,return_median=1)\n",
      "fit1 = np.polyfit(mjd[c1[gd1[gdind1]]],f10[c1[gd1[gdind1]]]/expt[c1[gd1[gdind1]]],deg=1)\n",
      "func1 = poly1d(fit1)\n",
      "\n",
      "# chip2\n",
      "gd2 = np.where((mjd[c2] < 55400.) & (f10[c2]/expt[c2] > 50000.))[0]\n",
      "gdind2 = meanclip(f10[c2[gd2]],return_array=1,return_median=1)\n",
      "fit2 = np.polyfit(mjd[c2[gd2[gdind2]]],f10[c2[gd2[gdind2]]]/expt[c2[gd2[gdind2]]],deg=1)\n",
      "func2 = poly1d(fit2)\n",
      "\n",
      "# -- Make scatter plot\n",
      "fig = pylab.figure()\n",
      "pylab.scatter(mjd[c1],f10[c1]/expt[c1], c = 'red', label='UVIS 1')\n",
      "pylab.scatter(mjd[c2],f10[c2]/expt[c2], c = 'blue', label='UVIS 2')\n",
      "pylab.plot(linspace(55000,55400,2), func1(linspace(55000,55400,2)),'r--',linspace(55000,55400,2), func2(linspace(55000,55400,2)),'b--')\n",
      "\n",
      "# plot details\n",
      "pylab.xlabel('MJD', fontsize=14, weight='bold')\n",
      "pylab.ylabel('Flux [e-/sec]', fontsize=14, weight='bold')\n",
      "pylab.legend(scatterpoints=1)\n",
      "pylab.annotate(filt,[0.03,0.94],xycoords='axes fraction',fontname='monospace',size='large',weight='bold')\n",
      "pylab.ylim(47000,52000)\n",
      "pylab.show()"
     ],
     "language": "python",
     "metadata": {},
     "outputs": [
      {
       "output_type": "stream",
       "stream": "stdout",
       "text": [
        "MEDIANCLIP: 3.0-sigma clipped median\n",
        "MEDIANCLIP: Median computed in 1 iterations\n",
        "MEDIANCLIP: Median = 84664.185000, sigma = 592.764429\n",
        "MEDIANCLIP: 3.0-sigma clipped median\n",
        "MEDIANCLIP: Median computed in 4 iterations\n",
        "MEDIANCLIP: Median = 83946.915000, sigma = 494.635041\n"
       ]
      }
     ],
     "prompt_number": 5
    },
    {
     "cell_type": "code",
     "collapsed": false,
     "input": [
      "# MAKE SAME SCATTER DIAGRAM BUT USING FLUX DIFFERNECE FROM MEDIAN VALUE AT 55000 MJD\n",
      "c1 = np.where(chip == 1)[0]\n",
      "c2 = np.where(chip == 2)[0]\n",
      "\n",
      "# -- fit the median value in the last two years\n",
      "med1,rms1 = meanclip(f10[c1][mjd[c1]>55500.]/expt[c1][mjd[c1]>55500.], return_median=1)\n",
      "med2,rms2 = meanclip(f10[c2][mjd[c2]>55500.]/expt[c2][mjd[c2]>55500.], return_median=1)\n",
      "\n",
      "# -- make scatter plot\n",
      "# chip1\n",
      "fig=pylab.figure()\n",
      "fig.subplots_adjust(hspace=0.0)\n",
      "ax1=pylab.subplot(2,1,1)\n",
      "pylab.scatter(mjd[c1],((f10[c1]/expt[c1])/med1 - 1.0)*100., c = 'red', label='UVIS 1')\n",
      "pylab.setp(ax1.get_xticklabels(),visible=False)\n",
      "pylab.annotate(filt,[0.03,0.9],xycoords='axes fraction',fontname='monospace',size='large',weight='bold')\n",
      "pylab.ylabel('$\\mathbf{\\Delta}$ Flux % [e-/sec]', fontsize=14, weight='bold')\n",
      "pylab.axhline(0.0, color='k', ls='--', linewidth=1)\n",
      "pylab.legend(scatterpoints=1)\n",
      "\n",
      "# chip2\n",
      "ax2=pylab.subplot(212,sharex=ax1,sharey=ax1)\n",
      "ax2.yaxis.set_minor_locator(MultipleLocator(0.5))\n",
      "ax2.xaxis.set_minor_locator(MultipleLocator(100))\n",
      "pylab.scatter(mjd[c2],((f10[c2]/expt[c2])/med2 - 1.0)*100., c = 'blue', label='UVIS 2')\n",
      "pylab.xlabel('MJD', fontsize=14, weight='bold')\n",
      "\n",
      "pylab.ylabel('$\\mathbf{\\Delta}$ Flux % [e-/sec]', fontsize=14, weight='bold')\n",
      "pylab.legend(scatterpoints=1)\n",
      "pylab.axhline(0.0, color='k', ls='--', linewidth=1)\n",
      "pylab.xlim(54900,56600)\n",
      "pylab.ylim(-3,3)\n",
      "pylab.show()\n",
      "pylab.savefig(filt+'_photmonitor.pdf')"
     ],
     "language": "python",
     "metadata": {},
     "outputs": [
      {
       "output_type": "stream",
       "stream": "stdout",
       "text": [
        "MEDIANCLIP: 3.0-sigma clipped median\n",
        "MEDIANCLIP: Median computed in 1 iterations\n",
        "MEDIANCLIP: Median = 175542.769231, sigma = 710.204644\n",
        "MEDIANCLIP: 3.0-sigma clipped median\n",
        "MEDIANCLIP: Median computed in 1 iterations\n",
        "MEDIANCLIP: Median = 173891.884615, sigma = 683.083144\n"
       ]
      }
     ],
     "prompt_number": 4
    },
    {
     "cell_type": "code",
     "collapsed": false,
     "input": [
      "rms1/med1, rms2/med2"
     ],
     "language": "python",
     "metadata": {},
     "outputs": [
      {
       "output_type": "pyout",
       "prompt_number": 5,
       "text": [
        "(0.0040457641590637208, 0.0039282059946752941)"
       ]
      }
     ],
     "prompt_number": 5
    },
    {
     "cell_type": "code",
     "collapsed": false,
     "input": [],
     "language": "python",
     "metadata": {},
     "outputs": []
    }
   ],
   "metadata": {}
  }
 ]
}